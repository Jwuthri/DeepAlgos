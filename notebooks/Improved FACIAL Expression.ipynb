{
 "cells": [
  {
   "cell_type": "code",
   "execution_count": 50,
   "metadata": {},
   "outputs": [],
   "source": [
    "import tensorflow as tf\n",
    "\n",
    "from keras.preprocessing.image import ImageDataGenerator\n",
    "\n",
    "import numpy as np\n",
    "import matplotlib.pyplot as plt\n",
    "\n",
    "import cv2\n",
    "\n",
    "%matplotlib inline"
   ]
  },
  {
   "cell_type": "code",
   "execution_count": 2,
   "metadata": {},
   "outputs": [],
   "source": [
    "num_classes = 7\n",
    "classes = [\"angry\", \"disgust\", \"fear\", \"happy\", \"sad\", \"surprise\", \"neutral\"]\n",
    "batch_size = 256\n",
    "epochs = 50\n",
    "height, width = 128, 128"
   ]
  },
  {
   "cell_type": "code",
   "execution_count": 4,
   "metadata": {},
   "outputs": [
    {
     "name": "stdout",
     "output_type": "stream",
     "text": [
      "number of instances:  35888\n",
      "instance length:  2304\n"
     ]
    }
   ],
   "source": [
    "with open(\"../data/raw/facial_expression/data.csv\") as f:\n",
    "    content = f.readlines()\n",
    "\n",
    "lines = np.array(content)\n",
    "\n",
    "num_of_instances = lines.size\n",
    "print(\"number of instances: \",num_of_instances)\n",
    "print(\"instance length: \",len(lines[1].split(\",\")[1].split(\" \")))"
   ]
  },
  {
   "cell_type": "code",
   "execution_count": 47,
   "metadata": {},
   "outputs": [],
   "source": [
    "d_emotions_count = dict()\n",
    "for i in range(1, len(lines)):\n",
    "    if classes[int(lines[i].split(\",\")[0])] in d_emotions_count.keys():\n",
    "        d_emotions_count[classes[int(lines[i].split(\",\")[0])]] += 1\n",
    "    else:\n",
    "        d_emotions_count[classes[int(lines[i].split(\",\")[0])]] = 1"
   ]
  },
  {
   "cell_type": "code",
   "execution_count": 61,
   "metadata": {},
   "outputs": [
    {
     "data": {
      "image/png": "[encoded data removed]",
      "text/plain": [
       "<matplotlib.figure.Figure at 0x12a971438>"
      ]
     },
     "metadata": {},
     "output_type": "display_data"
    }
   ],
   "source": [
    "a = list(d_emotions_count.keys())\n",
    "b = list(d_emotions_count.values())\n",
    "y_pos = np.arange(len(a))\n",
    "plt.bar(y_pos, b, align='center', alpha=0.5)\n",
    "plt.xticks(y_pos, a)\n",
    "plt.ylabel('number')\n",
    "plt.title('emotion')\n",
    "plt.show()"
   ]
  },
  {
   "cell_type": "code",
   "execution_count": 62,
   "metadata": {},
   "outputs": [
    {
     "ename": "TypeError",
     "evalue": "__init__() missing 1 required positional argument: 'name_or_scope'",
     "output_type": "error",
     "traceback": [
      "\u001b[0;31m---------------------------------------------------------------------------\u001b[0m",
      "\u001b[0;31mTypeError\u001b[0m                                 Traceback (most recent call last)",
      "\u001b[0;32m<ipython-input-62-80a01989ccef>\u001b[0m in \u001b[0;36m<module>\u001b[0;34m()\u001b[0m\n\u001b[1;32m      1\u001b[0m \u001b[0minit\u001b[0m \u001b[0;34m=\u001b[0m \u001b[0mtf\u001b[0m\u001b[0;34m.\u001b[0m\u001b[0mcontrib\u001b[0m\u001b[0;34m.\u001b[0m\u001b[0mlayers\u001b[0m\u001b[0;34m.\u001b[0m\u001b[0mxavier_initializer\u001b[0m\u001b[0;34m(\u001b[0m\u001b[0;34m)\u001b[0m\u001b[0;34m\u001b[0m\u001b[0m\n\u001b[0;32m----> 2\u001b[0;31m \u001b[0;32mwith\u001b[0m \u001b[0mtf\u001b[0m\u001b[0;34m.\u001b[0m\u001b[0mvariable_scope\u001b[0m\u001b[0;34m(\u001b[0m\u001b[0;34m)\u001b[0m\u001b[0;34m:\u001b[0m\u001b[0;34m\u001b[0m\u001b[0m\n\u001b[0m\u001b[1;32m      3\u001b[0m     \u001b[0mconv1\u001b[0m \u001b[0;34m=\u001b[0m \u001b[0mtf\u001b[0m\u001b[0;34m.\u001b[0m\u001b[0mlayers\u001b[0m\u001b[0;34m.\u001b[0m\u001b[0mconv2d\u001b[0m\u001b[0;34m(\u001b[0m\u001b[0minputs\u001b[0m\u001b[0;34m=\u001b[0m\u001b[0mimages\u001b[0m\u001b[0;34m,\u001b[0m \u001b[0mfilters\u001b[0m\u001b[0;34m=\u001b[0m\u001b[0;36m64\u001b[0m\u001b[0;34m,\u001b[0m \u001b[0mkernel_size\u001b[0m\u001b[0;34m=\u001b[0m\u001b[0;36m5\u001b[0m\u001b[0;34m,\u001b[0m \u001b[0mstrides\u001b[0m\u001b[0;34m=\u001b[0m\u001b[0;36m1\u001b[0m\u001b[0;34m,\u001b[0m \u001b[0mpadding\u001b[0m\u001b[0;34m=\u001b[0m\u001b[0;34m\"VALID\"\u001b[0m\u001b[0;34m,\u001b[0m \u001b[0mkernel_initializer\u001b[0m\u001b[0;34m=\u001b[0m\u001b[0minit\u001b[0m\u001b[0;34m)\u001b[0m\u001b[0;34m\u001b[0m\u001b[0m\n\u001b[1;32m      4\u001b[0m     \u001b[0mrelu1\u001b[0m \u001b[0;34m=\u001b[0m \u001b[0mtf\u001b[0m\u001b[0;34m.\u001b[0m\u001b[0mnn\u001b[0m\u001b[0;34m.\u001b[0m\u001b[0mrelu\u001b[0m\u001b[0;34m(\u001b[0m\u001b[0mconv1\u001b[0m\u001b[0;34m)\u001b[0m\u001b[0;34m\u001b[0m\u001b[0m\n\u001b[1;32m      5\u001b[0m     \u001b[0mconv2\u001b[0m \u001b[0;34m=\u001b[0m \u001b[0mtf\u001b[0m\u001b[0;34m.\u001b[0m\u001b[0mlayers\u001b[0m\u001b[0;34m.\u001b[0m\u001b[0mconv2d\u001b[0m\u001b[0;34m(\u001b[0m\u001b[0minputs\u001b[0m\u001b[0;34m=\u001b[0m\u001b[0mrelu1\u001b[0m\u001b[0;34m,\u001b[0m \u001b[0mfilters\u001b[0m\u001b[0;34m=\u001b[0m\u001b[0;36m64\u001b[0m\u001b[0;34m,\u001b[0m \u001b[0mkernel_size\u001b[0m\u001b[0;34m=\u001b[0m\u001b[0;36m5\u001b[0m\u001b[0;34m,\u001b[0m \u001b[0mstrides\u001b[0m\u001b[0;34m=\u001b[0m\u001b[0;36m1\u001b[0m\u001b[0;34m,\u001b[0m \u001b[0mpadding\u001b[0m\u001b[0;34m=\u001b[0m\u001b[0;34m\"VALID\"\u001b[0m\u001b[0;34m,\u001b[0m \u001b[0mkernel_initializer\u001b[0m\u001b[0;34m=\u001b[0m\u001b[0minit\u001b[0m\u001b[0;34m)\u001b[0m\u001b[0;34m\u001b[0m\u001b[0m\n",
      "\u001b[0;31mTypeError\u001b[0m: __init__() missing 1 required positional argument: 'name_or_scope'"
     ]
    }
   ],
   "source": [
    "    init = tf.contrib.layers.xavier_initializer()\n",
    "    with tf.variable_scope():\n",
    "        conv1 = tf.layers.conv2d(inputs=images, filters=64, kernel_size=5, strides=1, padding=\"VALID\", kernel_initializer=init)\n",
    "        relu1 = tf.nn.relu(conv1)\n",
    "        conv2 = tf.layers.conv2d(inputs=relu1, filters=64, kernel_size=5, strides=1, padding=\"VALID\", kernel_initializer=init)\n",
    "        bn2 = tf.layers.batch_normalization(inputs=conv2, training=True)\n",
    "        relu2 = tf.nn.relu(bn2)\n",
    "        pool2 = tf.nn.max_pool(relu2, ksize=[1, 2, 2, 1], strides=[1, 2, 2, 1], padding='SAME')\n",
    "        \n",
    "        conv3 = tf.layers.conv2d(inputs=pool2, filters=128, kernel_size=3, strides=2, padding=\"VALID\", kernel_initializer=init)\n",
    "        relu3 = tf.nn.relu(conv3)\n",
    "        conv4 = tf.layers.conv2d(inputs=relu3, filters=128, kernel_size=3, strides=2, padding=\"VALID\", kernel_initializer=init)\n",
    "        bn4 = tf.layers.batch_normalization(inputs=conv4, training=True)\n",
    "        relu4 = tf.nn.relu(bn4)\n",
    "        pool4 = tf.nn.avg_pool(relu4, ksize=[1, 2, 2, 1], strides=[1, 2, 2, 1], padding='SAME')\n",
    "    \n",
    "        conv5 = tf.layers.conv2d(inputs=pool4, filters=128, kernel_size=3, strides=2, padding=\"VALID\", kernel_initializer=init)\n",
    "        relu5 = tf.nn.relu(conv5)\n",
    "        conv6 = tf.layers.conv2d(inputs=relu5, filters=128, kernel_size=3, strides=2, padding=\"VALID\", kernel_initializer=init)\n",
    "        bn6 = tf.layers.batch_normalization(inputs=conv6, training=True)\n",
    "        relu6 = tf.nn.relu(bn6)\n",
    "        pool6 = tf.nn.avg_pool(relu6, ksize=[1, 2, 2, 1], strides=[1, 2, 2, 1], padding='SAME')\n",
    "        \n",
    "        shape = (-1, len(clases))\n",
    "        flat = tf.reshape(tensor=pool6, shape=shape)\n",
    "        logits = tf.layers.dense(inputs=flat, units=1024)\n",
    "        out = tf.nn.softmax(logits)"
   ]
  },
  {
   "cell_type": "code",
   "execution_count": null,
   "metadata": {},
   "outputs": [],
   "source": [
    "        with tf.variable_scope(name_or_scope=\"discriminator\", reuse=reuse):\n",
    "            # Block 1 featuring\n",
    "            conv1 = tf.layers.conv2d(inputs=images, filters=64, kernel_size=5, strides=2, padding=\"same\", kernel_initializer=init)\n",
    "            relu1 = tf.maximum(conv1 * self.alpha, conv1)\n",
    "\n",
    "            # Block 2 featuring\n",
    "            conv2 = tf.layers.conv2d(inputs=relu1, filters=128, kernel_size=5, strides=2, padding=\"same\", kernel_initializer=init)\n",
    "            # Batch Normalization: Accelerating Deep Network Training by Reducing Internal Covariate Shift\n",
    "            bn2 = tf.layers.batch_normalization(inputs=conv2, training=True)\n",
    "            relu2 = tf.maximum(bn2 * self.alpha, bn2)\n",
    "            drop2 = tf.nn.dropout(x=relu2, keep_prob=.8)\n",
    "\n",
    "            # Block 3 featuring\n",
    "            conv3 = tf.layers.conv2d(inputs=drop2, filters=256, kernel_size=5, strides=2, padding=\"same\", kernel_initializer=init)\n",
    "            bn3 = tf.layers.batch_normalization(inputs=conv3, training=True)\n",
    "            relu3 = tf.maximum(bn3 * self.alpha, bn3)\n",
    "            drop3 = tf.nn.dropout(x=relu3, keep_prob=.8)\n",
    "\n",
    "            # Last Block prediction\n",
    "            shape = (-1, self.out_shape)\n",
    "            flat = tf.reshape(tensor=drop3, shape=shape)\n",
    "            logits = tf.layers.dense(inputs=flat, units=1)  # units: dimensionality of the output space.\n",
    "            out = tf.sigmoid(logits)\n",
    "\n",
    "            return logits, out"
   ]
  },
  {
   "cell_type": "code",
   "execution_count": null,
   "metadata": {},
   "outputs": [],
   "source": [
    "model = Sequential()\n",
    "\n",
    "#1st convolution layer\n",
    "model.add(Conv2D(64, (5, 5), activation='relu', input_shape=(48,48,1)))\n",
    "model.add(MaxPooling2D(pool_size=(5,5), strides=(2, 2)))\n",
    "\n",
    "#2nd convolution layer\n",
    "model.add(Conv2D(64, (3, 3), activation='relu'))\n",
    "model.add(Conv2D(64, (3, 3), activation='relu'))\n",
    "model.add(AveragePooling2D(pool_size=(3,3), strides=(2, 2)))\n",
    "\n",
    "#3rd convolution layer\n",
    "model.add(Conv2D(128, (3, 3), activation='relu'))\n",
    "model.add(Conv2D(128, (3, 3), activation='relu'))\n",
    "model.add(AveragePooling2D(pool_size=(3,3), strides=(2, 2)))\n",
    "\n",
    "model.add(Flatten())\n",
    "\n",
    "#fully connected neural networks\n",
    "model.add(Dense(1024, activation='relu'))\n",
    "model.add(Dropout(0.2))\n",
    "model.add(Dense(1024, activation='relu'))\n",
    "model.add(Dropout(0.2))\n",
    "\n",
    "model.add(Dense(num_classes, activation='softmax'))\n",
    "model.summary()"
   ]
  },
  {
   "cell_type": "code",
   "execution_count": null,
   "metadata": {},
   "outputs": [],
   "source": []
  }
 ],
 "metadata": {
  "kernelspec": {
   "display_name": "Python 3",
   "language": "python",
   "name": "python3"
  },
  "language_info": {
   "codemirror_mode": {
    "name": "ipython",
    "version": 3
   },
   "file_extension": ".py",
   "mimetype": "text/x-python",
   "name": "python",
   "nbconvert_exporter": "python",
   "pygments_lexer": "ipython3",
   "version": "3.6.2"
  }
 },
 "nbformat": 4,
 "nbformat_minor": 2
}
